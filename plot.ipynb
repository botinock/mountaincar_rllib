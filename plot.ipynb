{
 "cells": [
  {
   "cell_type": "code",
   "execution_count": null,
   "metadata": {},
   "outputs": [],
   "source": [
    "import pandas as pd\n",
    "from matplotlib import pyplot as plt"
   ]
  },
  {
   "cell_type": "code",
   "execution_count": null,
   "metadata": {},
   "outputs": [],
   "source": [
    "df_dqn_v = pd.read_csv('logs/dqn_reward_v_2/progress.csv')\n",
    "df_dqn_y = pd.read_csv('logs/dqn_reward_y_1/progress.csv')\n",
    "df_ppo_v = pd.read_csv('logs/ppo_reward_v_2/progress.csv')"
   ]
  },
  {
   "cell_type": "code",
   "execution_count": null,
   "metadata": {},
   "outputs": [],
   "source": [
    "df_dqn_v.columns"
   ]
  },
  {
   "cell_type": "code",
   "execution_count": null,
   "metadata": {},
   "outputs": [],
   "source": [
    "plt.figure(figsize=(15,10))\n",
    "plt.plot(df_dqn_v[\"agent_timesteps_total\"], df_dqn_v[\"episode_reward_mean\"])\n",
    "plt.plot(df_dqn_y[\"agent_timesteps_total\"], df_dqn_y[\"episode_reward_mean\"])\n",
    "plt.plot(df_ppo_v[\"agent_timesteps_total\"], df_ppo_v[\"episode_reward_mean\"])\n",
    "plt.title(\"Mean reward\")\n",
    "plt.xlabel(\"Number of timesteps\")\n",
    "plt.ylabel(\"Reward\")\n",
    "plt.legend([\"DQN with velocity reward\", \"DQN with y coordinate reward\", \"PPO with velocity reward\"])\n",
    "plt.savefig('plots/mean_reward.png')\n",
    "plt.show()"
   ]
  },
  {
   "cell_type": "code",
   "execution_count": null,
   "metadata": {},
   "outputs": [],
   "source": [
    "plt.figure(figsize=(15,10))\n",
    "plt.plot(df_dqn_v[\"agent_timesteps_total\"], df_dqn_v[\"episode_reward_min\"])\n",
    "plt.plot(df_dqn_y[\"agent_timesteps_total\"], df_dqn_y[\"episode_reward_min\"])\n",
    "plt.plot(df_ppo_v[\"agent_timesteps_total\"], df_ppo_v[\"episode_reward_min\"])\n",
    "plt.title(\"Min reward\")\n",
    "plt.xlabel(\"Number of timesteps\")\n",
    "plt.ylabel(\"Reward\")\n",
    "plt.legend([\"DQN with velocity reward\", \"DQN with y coordinate reward\", \"PPO with velocity reward\"])\n",
    "plt.savefig('plots/min_reward.png')\n",
    "plt.show()"
   ]
  },
  {
   "cell_type": "code",
   "execution_count": null,
   "metadata": {},
   "outputs": [],
   "source": [
    "plt.figure(figsize=(15,10))\n",
    "plt.plot(df_dqn_v[\"agent_timesteps_total\"], df_dqn_v[\"episode_reward_max\"])\n",
    "plt.plot(df_dqn_y[\"agent_timesteps_total\"], df_dqn_y[\"episode_reward_max\"])\n",
    "plt.plot(df_ppo_v[\"agent_timesteps_total\"], df_ppo_v[\"episode_reward_max\"])\n",
    "plt.title(\"Max reward\")\n",
    "plt.xlabel(\"Number of timesteps\")\n",
    "plt.ylabel(\"Reward\")\n",
    "plt.legend([\"DQN with velocity reward\", \"DQN with y coordinate reward\", \"PPO with velocity reward\"])\n",
    "plt.savefig('plots/max_reward.png')\n",
    "plt.show()"
   ]
  },
  {
   "cell_type": "code",
   "execution_count": null,
   "metadata": {},
   "outputs": [],
   "source": [
    "plt.figure(figsize=(15,10))\n",
    "plt.plot(df_dqn_v[\"agent_timesteps_total\"], df_dqn_v[\"episode_len_mean\"])\n",
    "plt.plot(df_dqn_y[\"agent_timesteps_total\"], df_dqn_y[\"episode_len_mean\"])\n",
    "plt.plot(df_ppo_v[\"agent_timesteps_total\"], df_ppo_v[\"episode_len_mean\"])\n",
    "plt.title(\"Mean episode lenght\")\n",
    "plt.xlabel(\"Number of timesteps\")\n",
    "plt.ylabel(\"Lenght\")\n",
    "plt.legend([\"DQN with velocity reward\", \"DQN with y coordinate reward\", \"PPO with velocity reward\"])\n",
    "plt.savefig('plots/episode_lenghts.png')\n",
    "plt.show()"
   ]
  },
  {
   "cell_type": "code",
   "execution_count": null,
   "metadata": {},
   "outputs": [],
   "source": [
    "plt.figure(figsize=(15,10))\n",
    "plt.plot(df_dqn_v[\"agent_timesteps_total\"], df_dqn_v[\"episode_len_mean\"])\n",
    "plt.plot(df_dqn_y[\"agent_timesteps_total\"], df_dqn_y[\"episode_len_mean\"])\n",
    "plt.plot(df_ppo_v[\"agent_timesteps_total\"], df_ppo_v[\"episode_len_mean\"])\n",
    "plt.title(\"Mean episode lenght\")\n",
    "plt.xlabel(\"Number of timesteps\")\n",
    "plt.ylabel(\"Lenght\")\n",
    "plt.legend([\"DQN with velocity reward\", \"DQN with y coordinate reward\", \"PPO with velocity reward\"])\n",
    "plt.savefig('plots/episode_lenghts.png')\n",
    "plt.show()"
   ]
  }
 ],
 "metadata": {
  "kernelspec": {
   "display_name": "rl",
   "language": "python",
   "name": "python3"
  },
  "language_info": {
   "codemirror_mode": {
    "name": "ipython",
    "version": 3
   },
   "file_extension": ".py",
   "mimetype": "text/x-python",
   "name": "python",
   "nbconvert_exporter": "python",
   "pygments_lexer": "ipython3",
   "version": "3.10.10"
  },
  "orig_nbformat": 4
 },
 "nbformat": 4,
 "nbformat_minor": 2
}
